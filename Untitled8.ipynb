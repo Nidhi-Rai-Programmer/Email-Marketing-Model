{
  "nbformat": 4,
  "nbformat_minor": 0,
  "metadata": {
    "colab": {
      "name": "Untitled8.ipynb",
      "provenance": [],
      "authorship_tag": "ABX9TyMUe3Q2atm2fNdVTZGWMn+B",
      "include_colab_link": true
    },
    "kernelspec": {
      "name": "python3",
      "display_name": "Python 3"
    }
  },
  "cells": [
    {
      "cell_type": "markdown",
      "metadata": {
        "id": "view-in-github",
        "colab_type": "text"
      },
      "source": [
        "<a href=\"https://colab.research.google.com/github/Nidhi-Rai-Programmer/Email-Marketing-Model/blob/master/Untitled8.ipynb\" target=\"_parent\"><img src=\"https://colab.research.google.com/assets/colab-badge.svg\" alt=\"Open In Colab\"/></a>"
      ]
    },
    {
      "cell_type": "code",
      "metadata": {
        "id": "t88nXTYajIpX",
        "colab_type": "code",
        "colab": {}
      },
      "source": [
        "import pandas as pd\n",
        "import numpy as np\n",
        "import random\n",
        "from sklearn import linear_model\n",
        "from sklearn.tree import DecisionTreeRegressor"
      ],
      "execution_count": 1,
      "outputs": []
    },
    {
      "cell_type": "code",
      "metadata": {
        "id": "XhSFdWr1jRzk",
        "colab_type": "code",
        "colab": {}
      },
      "source": [
        "## Defining Real population\n",
        "def real_population(x1, x2, x3, x4, x5, size=5000, random_state=1234):\n",
        "\t#set.seed(99)\n",
        "\tb0= 1.1\n",
        "\tb1=2.2\n",
        "\tb2 = 3.3\n",
        "\tb3= 4.4\n",
        "\tb4=5.5\n",
        "\tb5= 6.6\n",
        "\ty = b0 + b1*x1 + b2*(x2**2) + b3*(x3*x4) + b4*x4 + b5*x5 \n",
        "\tr = np.random.RandomState(random_state)\n",
        "\tirr_noise = r.normal(-5,10,size)\n",
        "\ty = y + irr_noise\n",
        "\tdf = pd.DataFrame({'target':y, 'X1':x1, 'X2':x2, 'X3':x3, 'X4':x4, 'X5':x5})\n",
        "\treturn df\n"
      ],
      "execution_count": 2,
      "outputs": []
    },
    {
      "cell_type": "code",
      "metadata": {
        "id": "ZIqTQ2SWjX3J",
        "colab_type": "code",
        "colab": {}
      },
      "source": [
        "\n",
        "## Function to simulate the data as per the real population\n",
        "def simulation_data(size = 5000, random_seed= 99):\n",
        "\tnp.random.seed(random_seed)\n",
        "\tx1 = np.random.rand(size)\n",
        "\tx2 = np.random.rand(size)\n",
        "\tx3 = np.random.rand(size)\n",
        "\tx4 = np.random.rand(size)\n",
        "\tx5 = np.random.rand(size)\n",
        "\tdf = real_population(x1,x2,x3,x4,x5,size)\n",
        "\treturn df\n",
        "\n",
        "## function to compute mean square error\n",
        "def get_mse(mydf, model='Lin'):\n",
        "\ttruth = real_population(X_test[0], X_test[1],X_test[2],X_test[3],X_test[4], size=1)['target'][0]\n",
        "\ttruth = [truth] * simulations\n",
        "\tif(model== 'Lin'):\n",
        "\t\testimate = mydf[1]\n",
        "\telse:\n",
        "\t\testimate = mydf[2]\n",
        "\tm = np.mean((estimate-truth)**2)\n",
        "\treturn m\n",
        "\n",
        "## function to compute bias\n",
        "def get_bias(mydf, model='Lin'):\n",
        "\ttruth = real_population(X_test[0], X_test[1],X_test[2],X_test[3],X_test[4], size=1)['target'][0]\n",
        "\t#truth = [truth] * simulations\n",
        "\tif(model== 'Lin'):\n",
        "\t\testimate = mydf[1]\n",
        "\telse:\n",
        "\t\testimate = mydf[2]\n",
        "\tbias = np.mean(estimate) - truth\n",
        "\treturn bias\n",
        "\t\n",
        "## fucntion to compute variance\n",
        "def get_var(mydf, model='Lin'):\n",
        "\tif(model== 'Lin'):\n",
        "\t\testimate = mydf[1]\n",
        "\telse:\n",
        "\t\testimate = mydf[2]\n",
        "\tvar = np.mean((estimate - np.mean(estimate))**2)\n",
        "\treturn var"
      ],
      "execution_count": 3,
      "outputs": []
    },
    {
      "cell_type": "code",
      "metadata": {
        "id": "gqc-ij1gjwz_",
        "colab_type": "code",
        "colab": {
          "base_uri": "https://localhost:8080/",
          "height": 135
        },
        "outputId": "7bcd409c-4b0a-4acb-ddfb-8f0bc106b051"
      },
      "source": [
        "\n",
        "## fucntion to run the simulation \n",
        "def run_simulation(lin_model, tree_model, sims = 100):\n",
        "\tsimulations = sims\n",
        "\tpredicted = []\n",
        "\tfor i in range(0,simulations):\n",
        "\t\t\tD = simulation_data(5000, i)\n",
        "\t\t\tX = D[['X1', 'X2', 'X3', 'X4', 'X5']]\n",
        "\t\t\tY = D['target']\n",
        "      lin_model.fit(X,Y)\n",
        "      tree_model.fit(X,Y)\n",
        "\t\t\ttup = (i, reg.predict(pd.DataFrame(X_test).T), tree.predict(pd.DataFrame(X_test).T))\n",
        "\t\t\tpredicted.append(tup)\n",
        "\tpredicted_df = pd.DataFrame(predicted)\n",
        "\treturn predicted_df\n"
      ],
      "execution_count": 4,
      "outputs": [
        {
          "output_type": "error",
          "ename": "IndentationError",
          "evalue": "ignored",
          "traceback": [
            "\u001b[0;36m  File \u001b[0;32m\"<ipython-input-4-17071dd1c6a0>\"\u001b[0;36m, line \u001b[0;32m10\u001b[0m\n\u001b[0;31m    lin_model.fit(X,Y)\u001b[0m\n\u001b[0m                      ^\u001b[0m\n\u001b[0;31mIndentationError\u001b[0m\u001b[0;31m:\u001b[0m unindent does not match any outer indentation level\n"
          ]
        }
      ]
    },
    {
      "cell_type": "code",
      "metadata": {
        "id": "pTuQUJs3kifT",
        "colab_type": "code",
        "colab": {}
      },
      "source": [
        ""
      ],
      "execution_count": null,
      "outputs": []
    },
    {
      "cell_type": "code",
      "metadata": {
        "id": "mLP9S5lejz2b",
        "colab_type": "code",
        "colab": {}
      },
      "source": [
        "\n",
        "## function to evaluate the different metrics of simulation\n",
        "def evaluate_simulation(prediction_df):\n",
        "\tprint(\"Bias for Lin model is: \", get_bias(prediction_df, 'Lin')**2)\n",
        "\tprint(\"Bias for Tree model is: \", get_bias(prediction_df, 'tree')**2)\n",
        "\t\n",
        "\tprint(\"Var for Lin model is:\", get_var(prediction_df, 'Lin'))\n",
        "\tprint(\"var for Tree model is:\", get_var(prediction_df, 'tree'))\n",
        "\t\n",
        "\tprint(\"MSE for Lin model is:\", get_mse(prediction_df, 'Lin'))\n",
        "\tprint(\"MSE for Tree model is:\", get_mse(prediction_df, 'tree'))\n",
        "\n",
        "\treturn()"
      ],
      "execution_count": null,
      "outputs": []
    },
    {
      "cell_type": "code",
      "metadata": {
        "id": "--8R3D7VjeHR",
        "colab_type": "code",
        "colab": {
          "base_uri": "https://localhost:8080/",
          "height": 244
        },
        "outputId": "87690e84-9cf0-444a-bb53-74a13c810c4b"
      },
      "source": [
        "## Invoking the functions defined above\n",
        "reg = reg = linear_model.LinearRegression()\n",
        "simulations = 100\n",
        "np.random.seed(22)\n",
        "X_test = np.random.rand(5)\n",
        "for depth in [3,4,6,8,9,10]:\n",
        "\ttree = DecisionTreeRegressor(max_depth=depth)\n",
        "\tresults = run_simulation(reg, tree)\n",
        "\tevaluate_simulation(results)\n",
        "\tprint(\"\\n end of iter for depth\", depth)\n",
        "\tprint('\\n')\n"
      ],
      "execution_count": 5,
      "outputs": [
        {
          "output_type": "error",
          "ename": "NameError",
          "evalue": "ignored",
          "traceback": [
            "\u001b[0;31m---------------------------------------------------------------------------\u001b[0m",
            "\u001b[0;31mNameError\u001b[0m                                 Traceback (most recent call last)",
            "\u001b[0;32m<ipython-input-5-1abffb5cc126>\u001b[0m in \u001b[0;36m<module>\u001b[0;34m()\u001b[0m\n\u001b[1;32m      6\u001b[0m \u001b[0;32mfor\u001b[0m \u001b[0mdepth\u001b[0m \u001b[0;32min\u001b[0m \u001b[0;34m[\u001b[0m\u001b[0;36m3\u001b[0m\u001b[0;34m,\u001b[0m\u001b[0;36m4\u001b[0m\u001b[0;34m,\u001b[0m\u001b[0;36m6\u001b[0m\u001b[0;34m,\u001b[0m\u001b[0;36m8\u001b[0m\u001b[0;34m,\u001b[0m\u001b[0;36m9\u001b[0m\u001b[0;34m,\u001b[0m\u001b[0;36m10\u001b[0m\u001b[0;34m]\u001b[0m\u001b[0;34m:\u001b[0m\u001b[0;34m\u001b[0m\u001b[0;34m\u001b[0m\u001b[0m\n\u001b[1;32m      7\u001b[0m         \u001b[0mtree\u001b[0m \u001b[0;34m=\u001b[0m \u001b[0mDecisionTreeRegressor\u001b[0m\u001b[0;34m(\u001b[0m\u001b[0mmax_depth\u001b[0m\u001b[0;34m=\u001b[0m\u001b[0mdepth\u001b[0m\u001b[0;34m)\u001b[0m\u001b[0;34m\u001b[0m\u001b[0;34m\u001b[0m\u001b[0m\n\u001b[0;32m----> 8\u001b[0;31m         \u001b[0mresults\u001b[0m \u001b[0;34m=\u001b[0m \u001b[0mrun_simulation\u001b[0m\u001b[0;34m(\u001b[0m\u001b[0mreg\u001b[0m\u001b[0;34m,\u001b[0m \u001b[0mtree\u001b[0m\u001b[0;34m)\u001b[0m\u001b[0;34m\u001b[0m\u001b[0;34m\u001b[0m\u001b[0m\n\u001b[0m\u001b[1;32m      9\u001b[0m         \u001b[0mevaluate_simulation\u001b[0m\u001b[0;34m(\u001b[0m\u001b[0mresults\u001b[0m\u001b[0;34m)\u001b[0m\u001b[0;34m\u001b[0m\u001b[0;34m\u001b[0m\u001b[0m\n\u001b[1;32m     10\u001b[0m         \u001b[0mprint\u001b[0m\u001b[0;34m(\u001b[0m\u001b[0;34m\"\\n end of iter for depth\"\u001b[0m\u001b[0;34m,\u001b[0m \u001b[0mdepth\u001b[0m\u001b[0;34m)\u001b[0m\u001b[0;34m\u001b[0m\u001b[0;34m\u001b[0m\u001b[0m\n",
            "\u001b[0;31mNameError\u001b[0m: name 'run_simulation' is not defined"
          ]
        }
      ]
    }
  ]
}